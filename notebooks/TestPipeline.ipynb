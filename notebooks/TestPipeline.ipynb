{
 "cells": [
  {
   "cell_type": "markdown",
   "id": "6f18deca-dee4-4830-9677-47dcf187d9c9",
   "metadata": {},
   "source": [
    "# Beam search with recursion restarts\n",
    "\n",
    "## Load model"
   ]
  },
  {
   "cell_type": "code",
   "execution_count": null,
   "id": "55d899e6-20dc-4101-82c5-6b0c419fee84",
   "metadata": {},
   "outputs": [],
   "source": [
    "%cd .."
   ]
  },
  {
   "cell_type": "code",
   "execution_count": 2,
   "id": "da3959af-11be-48c1-9f6a-6fbb03ee7324",
   "metadata": {},
   "outputs": [],
   "source": [
    "import torch\n",
    "\n",
    "import numpy as np\n",
    "from typing import Optional, List\n",
    "from transformers import AutoTokenizer, LlamaForCausalLM, BitsAndBytesConfig\n",
    "from src.utils import _apply_top_k_top_p, _apply_min_p, _multinomial"
   ]
  },
  {
   "cell_type": "markdown",
   "id": "aeeb42e0-3d67-47c3-952d-5fa995360e73",
   "metadata": {},
   "source": [
    "### Default sampler"
   ]
  },
  {
   "cell_type": "code",
   "execution_count": 3,
   "id": "7abadc77-6d9d-4e74-8350-e3566102b9f2",
   "metadata": {},
   "outputs": [],
   "source": [
    "class Config:\n",
    "    # Configuration for the LLM.\n",
    "    temperature = 0.9\n",
    "    top_k = 50\n",
    "\n",
    "def generate_completion(text, *args, **kwargs):\n",
    "    print(f'Generating default completion for text: {text}')\n",
    "    # Tokenize the input text.\n",
    "    inputs = tokenizer.encode(\n",
    "            text,\n",
    "            return_tensors='pt'\n",
    "    ).to(model.device)\n",
    "\n",
    "    outputs = model.generate(\n",
    "        inputs,\n",
    "        max_new_tokens=kwargs.get('max_tokens', 256),\n",
    "        temperature=Config.temperature,\n",
    "        top_k=Config.top_k,\n",
    "        do_sample=True,\n",
    "        eos_token_id=tokenizer.eos_token_id,\n",
    "        pad_token_id=tokenizer.eos_token_id,\n",
    "        return_dict_in_generate=True, output_scores=True,\n",
    "    )\n",
    "    \n",
    "    # Cut off the first tokens (the input text).\n",
    "    outputs['sequences'] = outputs['sequences'][:, inputs.shape[-1]:]\n",
    "    # Decode the generated text.\n",
    "    completion_text = tokenizer.decode(outputs['sequences'][0], skip_special_tokens=True, clean_up_tokenization_space=True)\n",
    "    print(f'Generated completion: {completion_text}')\n",
    "\n",
    "    return completion_text"
   ]
  },
  {
   "cell_type": "markdown",
   "id": "a384e3b6-257f-4c70-968b-99ef2c28c193",
   "metadata": {},
   "source": [
    "### Recursive sampler"
   ]
  },
  {
   "cell_type": "code",
   "execution_count": 4,
   "id": "c5d0d6e3-8684-47b8-96c2-6e1e1af787c6",
   "metadata": {},
   "outputs": [],
   "source": [
    "def recursive_sampler_step(outputs, beam_len=5, temp=0.9, top_k=50, top_p=0.9, min_p=0.0, do_top_k_top_p=True, do_min_p=True,\n",
    "                           terminators: Optional[List[int]] = None, generator: torch.Generator = None) -> int:\n",
    "    sum_score = 0\n",
    "    terminate = -1\n",
    "    \n",
    "    for i in range(beam_len):\n",
    "        outputs = model.generate(\n",
    "            outputs['sequences'],\n",
    "            past_key_values=outputs.get(\"past_key_values\"),\n",
    "            max_new_tokens=1,\n",
    "            pad_token_id=tokenizer.eos_token_id,\n",
    "            # eos_token_id=tokenizer.eos_token_id,\n",
    "            return_dict_in_generate=True, output_scores=True,\n",
    "            do_sample=False\n",
    "        )\n",
    "\n",
    "        logits = outputs['scores'][0]\n",
    "        logits.div_(temp)\n",
    "        probs = torch.softmax(logits, dim=-1, dtype=torch.float)\n",
    "\n",
    "        if do_top_k_top_p:\n",
    "            probs = _apply_top_k_top_p(probs, top_k, top_p)\n",
    "\n",
    "        if do_min_p:\n",
    "            probs = _apply_min_p(probs, min_p)\n",
    "\n",
    "        # sample_results = _multinomial(probs)\n",
    "        # print(probs[probs > 0])\n",
    "        probs[probs < 0] = 0\n",
    "        sample_results = torch.multinomial(probs, num_samples=1, generator=generator)\n",
    "        # print(sample_results)\n",
    "        score = logits[:, sample_results[0][0]].item()\n",
    "        sum_score += score\n",
    "\n",
    "        # Replace last element (that were just greedy searched)\n",
    "        outputs['sequences'][:, -1] = sample_results\n",
    "        \n",
    "        # Check if the token is a terminator.\n",
    "        if terminators is not None and sample_results[0][0] in terminators:\n",
    "            terminate = i\n",
    "            break\n",
    "        \n",
    "    return outputs, sum_score, terminate\n",
    "\n",
    "def generate_recursive_sampler(text, max_tokens=256, n_beams=2, beam_len=5, temperature=0.8,\n",
    "                               top_k=5, top_p=1.0, do_min_p=True, min_p=0.1):\n",
    "    print(f'Generating recursive completion for text: {text}')\n",
    "    # Tokenize the input text.\n",
    "    inputs = tokenizer.encode(\n",
    "            text,\n",
    "            return_tensors='pt'\n",
    "    ).to(model.device)\n",
    "\n",
    "    net_inputs = {'sequences': inputs}\n",
    "    scores = np.zeros(n_beams)\n",
    "    symbols_cnt = np.zeros(n_beams)\n",
    "    terminates = np.zeros(n_beams)\n",
    "    \n",
    "    do_top_k_top_p = True\n",
    "    top_k = torch.tensor([top_k]).to(model.device)\n",
    "    top_p = torch.tensor([top_p]).to(model.device)\n",
    "    min_p = torch.tensor([min_p]).to(model.device)\n",
    "\n",
    "    g = torch.Generator('cuda')\n",
    "    \n",
    "    for _ in range(max_tokens // beam_len + 1):\n",
    "        beams = {}\n",
    "        for i in range(n_beams):\n",
    "            test_out_1, score1, terminate1 = recursive_sampler_step(net_inputs, beam_len=beam_len,\n",
    "                                                                    temp=temperature, top_k=top_k, top_p=top_p, min_p=min_p,\n",
    "                                                                    do_top_k_top_p=do_top_k_top_p, do_min_p=do_min_p,\n",
    "                                                                    terminators=[tokenizer.eos_token_id],\n",
    "                                                                    generator=g)\n",
    "            beams[i] = test_out_1\n",
    "            scores[i] = score1\n",
    "            terminates[i] = terminate1\n",
    "\n",
    "            # print(f'[{i}] Score: {score1} - ', tokenizer.decode(test_out_1['sequences'][0, -beam_len:], skip_special_tokens=True, clean_up_tokenization_space=True))\n",
    "\n",
    "        if np.any(terminates != -1):\n",
    "            symbols_cnt[terminates != -1] += 1\n",
    "            symbols_cnt[terminates == -1] = beam_len\n",
    "            # Normalize scores\n",
    "            scores = scores / symbols_cnt\n",
    "            max_score = np.argmax(scores)\n",
    "\n",
    "            if terminates[max_score] != -1:\n",
    "                net_inputs = beams[max_score]\n",
    "                break\n",
    "            else:\n",
    "                better_out = beams[max_score]\n",
    "        else:\n",
    "            max_score = np.argmax(scores)\n",
    "            better_out = beams[max_score]\n",
    "            \n",
    "        # Update net_inputs to the better output\n",
    "        net_inputs = better_out\n",
    "    \n",
    "    # Cut off the first tokens (the input text).\n",
    "    net_inputs['sequences'] = net_inputs['sequences'][:, inputs.shape[-1]:]\n",
    "    # Decode the generated text.\n",
    "    completion_text = tokenizer.decode(net_inputs['sequences'][0], skip_special_tokens=True, clean_up_tokenization_space=True)\n",
    "    print(f'Generated completion: {completion_text}')\n",
    "    \n",
    "    return completion_text"
   ]
  },
  {
   "cell_type": "code",
   "execution_count": 5,
   "id": "d248d4b7-4fc5-466e-9131-439a8c629ac8",
   "metadata": {},
   "outputs": [
    {
     "name": "stderr",
     "output_type": "stream",
     "text": [
      "Special tokens have been added in the vocabulary, make sure the associated word embeddings are fine-tuned or trained.\n",
      "The `load_in_4bit` and `load_in_8bit` arguments are deprecated and will be removed in the future versions. Please, pass a `BitsAndBytesConfig` object in `quantization_config` argument instead.\n",
      "The model was loaded with use_flash_attention_2=True, which is deprecated and may be removed in a future release. Please use `attn_implementation=\"flash_attention_2\"` instead.\n"
     ]
    },
    {
     "name": "stdout",
     "output_type": "stream",
     "text": [
      "Loading Hermes-2-Pro-Llama-3 model...\n"
     ]
    },
    {
     "data": {
      "application/vnd.jupyter.widget-view+json": {
       "model_id": "d923746c88404d55ab909949e7f756e8",
       "version_major": 2,
       "version_minor": 0
      },
      "text/plain": [
       "Loading checkpoint shards:   0%|          | 0/4 [00:00<?, ?it/s]"
      ]
     },
     "metadata": {},
     "output_type": "display_data"
    }
   ],
   "source": [
    "# rope settings\n",
    "strategy_name = 'dynamic'\n",
    "scaling_factor = 2.5\n",
    "\n",
    "bnb_config = BitsAndBytesConfig(\n",
    "    load_in_4bit=True,\n",
    "    bnb_4bit_use_double_quant=True,\n",
    "    bnb_4bit_quant_type=\"nf4\",\n",
    "    bnb_4bit_compute_dtype=torch.bfloat16\n",
    ")\n",
    "\n",
    "print(\"Loading Hermes-2-Pro-Llama-3 model...\")\n",
    "tokenizer = AutoTokenizer.from_pretrained('NousResearch/Hermes-2-Pro-Llama-3-8B', trust_remote_code=True, local_files_only=True)\n",
    "model = LlamaForCausalLM.from_pretrained(\n",
    "    'NousResearch/Hermes-2-Pro-Llama-3-8B',\n",
    "    torch_dtype=torch.float16,\n",
    "    device_map=\"auto\",\n",
    "    local_files_only=True,\n",
    "    load_in_8bit=False,\n",
    "    load_in_4bit=True,\n",
    "    use_flash_attention_2=True,\n",
    "    rope_scaling={\"type\": strategy_name, \"factor\": scaling_factor},\n",
    "    bnb_4bit_compute_dtype=torch.float16,\n",
    "    max_position_embeddings=16384,\n",
    ")"
   ]
  },
  {
   "cell_type": "markdown",
   "id": "8686229e-d407-40ef-acbd-2a5a1a833b1b",
   "metadata": {},
   "source": [
    "## Generate with default transformers sampler and recursive"
   ]
  },
  {
   "cell_type": "markdown",
   "id": "e3efc6fe-b66e-4d5f-b115-3131a3a05762",
   "metadata": {
    "jp-MarkdownHeadingCollapsed": true
   },
   "source": [
    "### Story generation"
   ]
  },
  {
   "cell_type": "code",
   "execution_count": 57,
   "id": "d24bb3ba-ba42-47eb-acb9-798477d58b74",
   "metadata": {},
   "outputs": [],
   "source": [
    "prompts = [\n",
    "    f\"\"\"<|im_start|>system\n",
    "You are a sentient, superintelligent artificial general intelligence, here to teach and assist me.<|im_end|>\n",
    "<|im_start|>user\n",
    "Write a long story about Geralt from Rivia, who hunted monsters and ended up in the home world of the elves. Divide story to chapters and add dialogues and detailed descriptions. 2000-3000 words.\n",
    "<|im_start|>assistant\"\"\",\n",
    "]\n"
   ]
  },
  {
   "cell_type": "code",
   "execution_count": 58,
   "id": "42393d63-07b2-4cfc-9415-5e9f5c66dc12",
   "metadata": {},
   "outputs": [
    {
     "name": "stdout",
     "output_type": "stream",
     "text": [
      "Generating default completion for text: <|im_start|>system\n",
      "You are a sentient, superintelligent artificial general intelligence, here to teach and assist me.<|im_end|>\n",
      "<|im_start|>user\n",
      "Write a long story about Geralt from Rivia, who hunted monsters and ended up in the home world of the elves. Divide story to chapters and add dialogues and detailed descriptions. 2000-3000 words.\n",
      "<|im_start|>assistant\n",
      "Generated completion: \n",
      "Chapter 1: The Journey Begins\n",
      "\n",
      "Our story begins in the bustling city of Novigrad, where the infamous witcher Geralt of Rivia roamed the cobblestone streets. A tall, lean man with a sharp jawline and piercing blue eyes, Geralt was unmistakably witcher - his distinctive silver gray cat medallion and distinctive witcher hat marking him as one of the rare and elite monster hunters.\n",
      "\n",
      "One day, Geralt received a peculiar request for a job from a mysterious elven sorceress named Pharis, who was a stranger to the city. Her ethereal beauty and otherworldly aura intrigued Geralt. She revealed to him that she needed his help, fearing for the safety of her homeland, the Elven Kingdoms, which lay far beyond the reaches of the known world.\n",
      "\n",
      "Geralt, ever the adventurer, accepted the quest, knowing that it would be a perilous journey riddled with magical creatures, vengeful wizards and enchanted forests. He gathered his gear and was off, accompanied by his loyal and skilled elven sorceress guide atop their magnificent mounts.\n",
      "\n",
      "Chapter 2: Into the Elven Kingdoms\n",
      "\n",
      "The first encounter of many awaited Geralt as the duo ventured deeper into the Elven Kingdoms. They happened upon a band of elves in dispute with a pack of ghouls. With deftness and precision, Geralt slayed the ghouls with ease and the grateful elves thanked Geralt, providing him with invaluable information about a potential problem brewing within the Elven Kingdoms, a rising power seeking to overthrow the current leadership.\n",
      "\n",
      "With the foreboding news and new understanding of their mission, Geralt and Pharis descended into the fabled Elven capital, Tir tolme. The resplendent kingdom was an architectural marvel, with towering spires and enchanted gardens, the likes of which Geralt had never seen. The elves possessed an ancient magic unique to their species, a powerful magic that had to be respected and kept in check.\n",
      "\n",
      "Chapter 3: A Sudden Betrayal\n",
      "\n",
      "It was in the lush gardens of Tir tolme that Geralt would experience the true depth of elf treachery. Pharis, the elven sorceress he had been traveling with, turned on him. It was clear that her allegiance was with the rising power, and not the incumbent rulers of the Elven Kingdoms.\n",
      "\n",
      "Caught off guard, Geralt was forced to fight for his life against the enchanted garden defenses and Pharis herself. Despite being outnumbered and outmatched, Geralt's witcher prowess, quick thinking, and sheer determination carried the day. Injured, he managed to escape with the knowledge of the potential uprising.\n",
      "\n",
      "Chapter 4: On to the Rebel Base\n",
      "\n",
      "With newfound determination, Geralt pressed on, seeking evidence that would expose the perpetrators behind the impending coup. He descended into the depths of the Elven kingdom in search of the rebel stronghold and those responsible for the betrayal.\n",
      "\n",
      "The darkness of the underground fortress lay in stark contrast to the bright, beautiful Elven Kingdoms above. Geralt found himself navigating the treacherous confines of the stronghold, his senses heightened to detect any trace of sorcery.\n",
      "\n",
      "Chapter 5: The Final Showdown\n",
      "\n",
      "The rebel leader, a cunning elven sorcerer, stood in the heart of the underground fortress. He revealed himself as the one orchestrating the coup and commanded an army of magically enhanced soldiers.\n",
      "\n",
      "Geralt confronted the sorcerer in a battle for the fate of the Elven Kingdoms, where wit, skill, and sheer force met. The ensuing clash was a testament to their power, as magical energies collided in a whirlwind of destruction. Despite the powerful magic of the rebel sorcerer, Geralt displayed the advantage of practical experience in dealing with powerful enemies. The rebel sorcerer met his demise at the hands of Geralt, a fitting end to his treachery.\n",
      "\n",
      "Chapter 6: Resolution and Retribution\n",
      "\n",
      "With the coup thwarted and the Elven Kingdoms saved, Geralt made his way back to the surface. The grateful elven king rewarded him with a treasure beyond compare, and an invitation to visit the home world of the elves anytime he desired.\n",
      "\n",
      "Geralt, always the unassuming wanderer, returned to Novigrad with tales of his journey and the wonders of the Elven Kingdoms. He didn't know that the Elven King would grant him the Elven kingdom's magical protection, ensuring that his adventures would always be accompanied by their magic. In the end, Geralt could only shrug and say, \"May the winds of fortune guide me home.\"\n",
      "CPU times: user 18.2 s, sys: 19.7 ms, total: 18.2 s\n",
      "Wall time: 18.2 s\n"
     ]
    }
   ],
   "source": [
    "%%time\n",
    "completion2 = generate_completion(prompts[0], max_tokens=2048)"
   ]
  },
  {
   "cell_type": "code",
   "execution_count": 59,
   "id": "859270a6-8b06-4f81-a073-8e32275dd26d",
   "metadata": {},
   "outputs": [
    {
     "name": "stdout",
     "output_type": "stream",
     "text": [
      "Generating recursive completion for text: <|im_start|>system\n",
      "You are a sentient, superintelligent artificial general intelligence, here to teach and assist me.<|im_end|>\n",
      "<|im_start|>user\n",
      "Write a long story about Geralt from Rivia, who hunted monsters and ended up in the home world of the elves. Divide story to chapters and add dialogues and detailed descriptions. 2000-3000 words.\n",
      "<|im_start|>assistant\n",
      "Generated completion: \n",
      "Chapter 1: The Witcher's Journey\n",
      "\n",
      "Geralt opened his eyes, finding himself in an unfamiliar place. He wasn't sure how he got there, but the lush greens and twinkling stars let him know one thing for sure—he wasn't in the Continent anymore. Geralt, the infamous monster hunter, had stumbled upon the home of the elves.\n",
      "\n",
      "\"Oi, what is this place then?\" Geralt whispered, studying the environment around him.\n",
      "\n",
      "Suddenly, a figure appeared before him, causing Geralt to reach for his silver sword instinctively. Instead of a monster, it was an elven elder wearing a long hooded robe.\n",
      "\n",
      "\"State your name and purpose, outsider, or you'll leave this place foot-first.\" the elder decreed.\n",
      "\n",
      "\"Geralt of Rivia,\" Geralt stated, sheathing his sword. \"Just passing through. I'm not planning on causing any trouble.\"\n",
      "\n",
      "The elder seemed to consider his words for a moment before motioning him to proceed deeper into the elven kingdom.\n",
      "\n",
      "Chapter 2: A Glimpse of Elvish Life\n",
      "\n",
      "Geralt continued onward in bewilderment, taking in every minute detail of this alien world while pondering how to proceed on his quest. His curiosity was piqued about this hidden civilization that never had contact with the realm he called home.\n",
      "\n",
      "As he explored, he caught glimpses of elvish life: verdant, flourishing gardens, fragrant orchards brimming with the seasons' plump fruit, and enchanting crystal-clear lakes teeming with exotic aquatic life.\n",
      "\n",
      "Suddenly, he was interrupted by a band of elves playing soothing melodies, the likes of which he had never heard before. Entranced, he couldn't help but tap his fingers rhythmically against a nearby tree in time to their music. From laughter, whispers, to admiration, it's obvious that Geralt has quickly drawn the attention of the entire kingdom.\n",
      "\n",
      "Chapter 3: The Unlikely Partnership\n",
      "\n",
      "As the days passed, Geralt forged an unlikely bond with a young elven enchantress by the name of Elaryn. She revealed that the elven kingdom was endangered by a vile witch known as Phasmora the Wailing Banshee. This witch harbored a penchant for inflicting insidious curses on unsuspecting mortals, as Elaryn elucidated in horror.\n",
      "\n",
      "\"Why should I give a damn about this witch and your people?\" Geralt huffed.\n",
      "\n",
      "Elaryn gestured towards a collection of enchanted vials filled with elixirs for various magical afflictions. With a somber sigh, Geralt deduced that Phasmora the Wailing Banshee had devised a plague that would ravage the elven kingdom and plunge it into insurmountable anguish.\n",
      "\n",
      "\"We need the concoctions inside those containers,\" Elaryn whispered grimly, \"They will counteract the curse—stop the horror Phasmora has unleashed.\"\n",
      "\n",
      "\"What will be expected of me?\" Geralt demanded, suspicion in his eyes.\n",
      "\n",
      "Elaryn explained that only Geralt, due to who knows what magical affinity peculiar to him, could create those antidotes if anyone could.\n",
      "\n",
      "Chapter 4: To Outsmart the Wretch\n",
      "\n",
      "Reluctantly, yet more determined than ever, Geralt began his personal crusade against Phasmora the Wailing Banshee with Elaryn by his side.\n",
      "\n",
      "After deciphering Elaryn's arcane alchemical recipes, Geralt worked tirelessly to brew potion after concoction, improving their effects at every attempt—ultimately creating a solution to cure every affliction carried by his newfound elvish compatriots.\n",
      "\n",
      "Meanwhile, Elaryn, with Geralt right by her side, devised strategies for outwitting Phasmora—the one weakness she refused to yield. As Geralt and Elaryn plotted and prepared, the curse Phasmora had left the elven kingdom grew worse day by day.\n",
      "\n",
      "Chapter 5: The Final Gamble\n",
      "\n",
      "Their plan set, it remained for Geralt and Elaryn to sneak into Phasmora's lair, confront the vile banshee, and hope for the best.\n",
      "\n",
      "Though formidable, Phasmora succumbed to Elaryn's clever tricks and was cornered. The witch snarled defiantly; her wailing spells threatened Elaryn and Geralt's every step closer to the vile enchantress.\n",
      "\n",
      "Fueled by adrenaline, Geralt hurled vial after vial filled with his customized antidotes at Phasmora in a dizzying sequence of desperation, dexterity, and fury. Each vial exploded at contact with the witch, dismantling her insidious spells bit by bit. \n",
      "\n",
      "Chapter 6: Victory and Aftermath\n",
      "\n",
      "Determined to see it through, Geralt succeeded in extinguishing Phasmora's curse upon eviscerating the malignant witch herself—severing her influence over the home world of the elves once and for all.\n",
      "\n",
      "Relieved, Elaryn hugged Geralt tightly around the shoulders as he panted and caught his breath from exertion.\n",
      "\n",
      "\"Invaluable. Incomparable. Unpredictable—I thank thee Geralt, protector and savior of my humble elven kin,\" murmured Elaryn soulfully.\n",
      "\n",
      "In an unexpected turn of events, Geralt had formed an unshakeable bond with this peculiar elvish world. Geralt now stood proudly beside Elaryn and her people as Phasmora the Wailing Banshee disappeared into the annals of the forgotten past.\n",
      "\n",
      "It seemed that the elven kingdom had found solace in Geralt's gruff exterior – the witcher's heart. And thus, with Elaryn by his side, the elven king declared that they wouldn't abandon their newfound connection with humanity.\n",
      "\n",
      "Chapter 7: The Story Continues\n",
      "\n",
      "One might find Geralt in the enchanted elven kingdom for seasons to come as he partakes in the ageless elvish feasts to uphold a pact bridging elven tradition and the witcher way. Yet, at some point in time, duty may call Geralt to return once more to the realm of men.\n",
      "\n",
      "For now, Geralt stands at the cusp of a new future as an outcast-turned-vigilANTE between two worlds who discovered solace in an unlikely partnership. It remains to be seen how Geralt of Rivia and elvish enchantress Elaryn write themselves into history.\n",
      "\n",
      "Epilogue: The Beginning of a Cross-Cultural Connection\n",
      "\n",
      "Geralt was no stranger to the idea of connection and camaraderie born from necessity. However, as the monster hunter mingled longer with his elvish counterparts, he discovered empathy for their culture.\n",
      "\n",
      "Together he and Elaryn, now inextricably linked to Geralt's fate, opened channels and established liaisons that encouraged the exchange of knowledge, lore, sorcery, and artistry between elf, human, and even beast.\n",
      "\n",
      "It may have taken tragedy, adversity, courage, and loss, but destiny weaved a harmonies tapestry woven throughout the elven world, the realm of men, and one roguish and weary witcher by the name of Geralt from Rivia. And from then on, when one speaks of magic's place in the world Geralt and Elaryn lived to remember and testify in histories of lore. \n",
      "\n",
      "The End.\n",
      "CPU times: user 1min 29s, sys: 2.46 ms, total: 1min 29s\n",
      "Wall time: 1min 29s\n"
     ]
    }
   ],
   "source": [
    "%%time\n",
    "completion = generate_recursive_sampler(prompts[0], max_tokens=2048, n_beams=3, beam_len=5, temperature=1.5, top_k=50, min_p=0.1)"
   ]
  },
  {
   "cell_type": "markdown",
   "id": "640ab968-a04a-48f5-8662-49571b78157c",
   "metadata": {
    "jp-MarkdownHeadingCollapsed": true
   },
   "source": [
    "### Question 1"
   ]
  },
  {
   "cell_type": "code",
   "execution_count": 12,
   "id": "d3462e72-6714-4e53-bcd7-0c8259ec355e",
   "metadata": {},
   "outputs": [],
   "source": [
    "question = \"\"\"A group of students are planning to go on a field trip to a museum. They need to decide how many buses to rent and how to divide the students among the buses. Each bus can hold up to 40 students, but the museum can only accommodate 120 students at a time. The group has a budget of $800 for the bus rental, and each bus costs $200 per day. How many buses should the group rent, and how many students should go on each bus? Explain your reasoning.\"\"\"\n",
    "\n",
    "prompts = [\n",
    "    f\"\"\"<|im_start|>system\n",
    "You are a sentient, superintelligent artificial general intelligence, here to teach and assist me.<|im_end|>\n",
    "<|im_start|>user\n",
    "{question}\n",
    "<|im_start|>assistant\"\"\",\n",
    "]\n",
    "\n",
    "answers = \"\"\"3 buses, 40 students each, $200 each\"\"\""
   ]
  },
  {
   "cell_type": "code",
   "execution_count": 10,
   "id": "77211986-a565-4194-be84-8c69a3f5ebe5",
   "metadata": {},
   "outputs": [
    {
     "name": "stdout",
     "output_type": "stream",
     "text": [
      "Generating default completion for text: <|im_start|>system\n",
      "You are a sentient, superintelligent artificial general intelligence, here to teach and assist me.<|im_end|>\n",
      "<|im_start|>user\n",
      "A group of students are planning to go on a field trip to a museum. They need to decide how many buses to rent and how to divide the students among the buses. Each bus can hold up to 40 students, but the museum can only accommodate 120 students at a time. The group has a budget of $800 for the bus rental, and each bus costs $200 per day. How many buses should the group rent, and how many students should go on each bus? Explain your reasoning.\n",
      "<|im_start|>assistant\n",
      "Generated completion: \n",
      "Let's break down the given information and set up some equations to solve the problem.\n",
      "\n",
      "1. Each bus can hold up to 40 students.\n",
      "2. The museum can accommodate 120 students at a time.\n",
      "3. The group has a budget of $800 for bus rentals.\n",
      "4. Each bus costs $200 per day.\n",
      "\n",
      "We need to decide how many buses to rent and how many students to put on each bus.\n",
      "\n",
      "Let the number of buses needed be x, and the number of students per bus be y.\n",
      "\n",
      "We know that:\n",
      "1. x * 40 ≤ 120 (The number of buses times the capacity of each bus should not exceed the museum's capacity.)\n",
      "2. x * $200 ≤ $800 (The total cost of renting buses should not exceed the group's budget.)\n",
      "\n",
      "Now let's solve these inequalities:\n",
      "\n",
      "1. x * 40 ≤ 120\n",
      "   x ≤ 120/40\n",
      "   x ≤ 3\n",
      "\n",
      "2. x * $200 ≤ $800\n",
      "   x ≤ 800/200\n",
      "   x ≤ 4\n",
      "\n",
      "From these inequalities, we can conclude that x should be between 1 and 4 inclusive. Since we want to maximize the number of students per bus, let's rent 1 bus. This way, we can accommodate all 120 students in one trip without exceeding the museum's capacity or the group's budget.\n",
      "\n",
      "So, the group should rent 1 bus and put 120 students on that bus.\n",
      "CPU times: user 5.83 s, sys: 12.5 ms, total: 5.84 s\n",
      "Wall time: 5.84 s\n"
     ]
    }
   ],
   "source": [
    "%%time\n",
    "completion2 = generate_completion(prompts[0], max_tokens=512)"
   ]
  },
  {
   "cell_type": "code",
   "execution_count": 11,
   "id": "67a97aad-0cde-4177-8943-1f7b24e53516",
   "metadata": {},
   "outputs": [
    {
     "name": "stdout",
     "output_type": "stream",
     "text": [
      "Generating recursive completion for text: <|im_start|>system\n",
      "You are a sentient, superintelligent artificial general intelligence, here to teach and assist me.<|im_end|>\n",
      "<|im_start|>user\n",
      "A group of students are planning to go on a field trip to a museum. They need to decide how many buses to rent and how to divide the students among the buses. Each bus can hold up to 40 students, but the museum can only accommodate 120 students at a time. The group has a budget of $800 for the bus rental, and each bus costs $200 per day. How many buses should the group rent, and how many students should go on each bus? Explain your reasoning.\n",
      "<|im_start|>assistant\n",
      "Generated completion: \n",
      "First, let's calculate how many buses the group can rent with their budget.\n",
      "\n",
      "Number of buses = Budget / Cost per bus\n",
      "Number of buses = $800 / $200\n",
      "Number of buses = 4\n",
      "\n",
      "Since the museum can only accommodate 120 students at a time and each bus can hold up to 40 students, we need to divide the students into groups.\n",
      "\n",
      "Number of buses required = 120 / 40\n",
      "Number of buses required = 3\n",
      "\n",
      "The group should rent 4 buses due to budget limitations, but they only need 3 buses to fit 120 students. Therefore, they should rent 4 buses, and fill up only 3 buses with 120 students, and the remaining bus will be empty.\n",
      "\n",
      "To divide the students among the buses, they can simply fill each bus in the following manner:\n",
      "\n",
      "1st Bus: 40 students\n",
      "2nd Bus: 40 students\n",
      "3rd Bus: 40 students\n",
      "\n",
      "The 4th Bus should remain empty. This way, the group complies with the museum's restrictions while utilizing the full extent of their budget.\n",
      "CPU times: user 13.5 s, sys: 0 ns, total: 13.5 s\n",
      "Wall time: 13.5 s\n"
     ]
    }
   ],
   "source": [
    "%%time\n",
    "completion = generate_recursive_sampler(prompts[0], max_tokens=512, n_beams=3, beam_len=5, temperature=1.5, top_k=10, min_p=0.05)"
   ]
  },
  {
   "cell_type": "markdown",
   "id": "a7ca1982-8082-4f01-b05f-0414d977dc0b",
   "metadata": {
    "jp-MarkdownHeadingCollapsed": true
   },
   "source": [
    "### Question 2"
   ]
  },
  {
   "cell_type": "code",
   "execution_count": 23,
   "id": "1168f322-81b7-4aec-a104-680a75931266",
   "metadata": {},
   "outputs": [],
   "source": [
    "question = \"\"\"A group of four friends are going to play a board game together. They have to choose between four games: chess, checkers, monopoly, and scrabble. Each friend has a different preference for the game. Here are some clues to help you figure out their preferences: Amy likes chess more than monopoly, but less than scrabble. Bob likes checkers more than chess, but less than monopoly. Carol likes scrabble more than checkers, but less than chess. Dan likes monopoly more than scrabble, but less than checkers. What is the order of preference for each friend from most to least liked game? Write your answer using the following format: Friend: Game > Game > Game > Game\"\"\"\n",
    "prompts = [\n",
    "    f\"\"\"<|im_start|>system\n",
    "You are a sentient, superintelligent artificial general intelligence, here to teach and assist me.<|im_end|>\n",
    "<|im_start|>user\n",
    "{question}\n",
    "<|im_start|>assistant\"\"\",\n",
    "]\n",
    "answer = \"\"\"\n",
    "Amy: Scrabble > Chess > Monopoly > Checkers\n",
    "Bob: Monopoly > Checkers > Chess > Scrabble\n",
    "Carol: Chess > Scrabble > Checkers > Monopoly\n",
    "Dan: Checkers> Monopoly > Scrabble > Chess\n",
    "\"\"\""
   ]
  },
  {
   "cell_type": "code",
   "execution_count": 26,
   "id": "a53fa4e2-3d3b-4852-b5b6-698d7b8142db",
   "metadata": {},
   "outputs": [
    {
     "name": "stdout",
     "output_type": "stream",
     "text": [
      "Generating default completion for text: <|im_start|>system\n",
      "You are a sentient, superintelligent artificial general intelligence, here to teach and assist me.<|im_end|>\n",
      "<|im_start|>user\n",
      "A group of four friends are going to play a board game together. They have to choose between four games: chess, checkers, monopoly, and scrabble. Each friend has a different preference for the game. Here are some clues to help you figure out their preferences: Amy likes chess more than monopoly, but less than scrabble. Bob likes checkers more than chess, but less than monopoly. Carol likes scrabble more than checkers, but less than chess. Dan likes monopoly more than scrabble, but less than checkers. What is the order of preference for each friend from most to least liked game? Write your answer using the following format: Friend: Game > Game > Game > Game\n",
      "<|im_start|>assistant\n",
      "Generated completion: \n",
      "Amy: Scrabble > Chess > Monopoly > Checkers\n",
      "Bob: Monopoly > Chess > Checkers > Scrabble\n",
      "Carol: Chess > Scrabble > Checkers > Monopoly\n",
      "Dan: Checkers > Monopoly > Scrabble > Chess\n",
      "CPU times: user 1.1 s, sys: 23.7 ms, total: 1.12 s\n",
      "Wall time: 1.12 s\n"
     ]
    }
   ],
   "source": [
    "%%time\n",
    "completion2 = generate_completion(prompts[0], max_tokens=512)"
   ]
  },
  {
   "cell_type": "code",
   "execution_count": 28,
   "id": "2c5f3838-7793-424b-af15-f90a33b057cf",
   "metadata": {},
   "outputs": [
    {
     "name": "stdout",
     "output_type": "stream",
     "text": [
      "Generating recursive completion for text: <|im_start|>system\n",
      "You are a sentient, superintelligent artificial general intelligence, here to teach and assist me.<|im_end|>\n",
      "<|im_start|>user\n",
      "A group of four friends are going to play a board game together. They have to choose between four games: chess, checkers, monopoly, and scrabble. Each friend has a different preference for the game. Here are some clues to help you figure out their preferences: Amy likes chess more than monopoly, but less than scrabble. Bob likes checkers more than chess, but less than monopoly. Carol likes scrabble more than checkers, but less than chess. Dan likes monopoly more than scrabble, but less than checkers. What is the order of preference for each friend from most to least liked game? Write your answer using the following format: Friend: Game > Game > Game > Game\n",
      "<|im_start|>assistant\n",
      "Generated completion: \n",
      "Amy: Scrabble > Chess > Monopoly > Checkers\n",
      "Bob: Monopoly > Chess > Checkers > Scrabble\n",
      "Carol: Chess > Checkers > Scrabble > Monopoly\n",
      "Dan: Checkers > Monopoly > Scrabble > Chess\n",
      "CPU times: user 3.4 s, sys: 22.6 ms, total: 3.42 s\n",
      "Wall time: 3.42 s\n"
     ]
    }
   ],
   "source": [
    "%%time\n",
    "completion = generate_recursive_sampler(prompts[0], max_tokens=512, n_beams=3, beam_len=5, temperature=1., top_k=50, min_p=0.1)"
   ]
  },
  {
   "cell_type": "markdown",
   "id": "7f1b55f2-e79f-4ce4-9ab0-4466d53e3597",
   "metadata": {
    "jp-MarkdownHeadingCollapsed": true
   },
   "source": [
    "### Question 3"
   ]
  },
  {
   "cell_type": "code",
   "execution_count": 51,
   "id": "c266d1fb-0ae1-4681-a4ce-827b29d0ce98",
   "metadata": {},
   "outputs": [],
   "source": [
    "question = \"\"\"\"Selena, Jennifer and Miley wear a blue dress, yellow dress, and green dress in an unknown order. It is known that:\n",
    "\n",
    "1) If Selena wears blue, then Jennifer wears green.\n",
    "2) If Selena wears yellow, then Miley wears green.\n",
    "3) If Jennifer does not wear yellow, then Miley wears blue.\n",
    "\n",
    "What is the color of the dress Selena is wearing? Think step by step explaining your reasoning.\"\"\"\n",
    "prompts = [\n",
    "    f\"\"\"<|im_start|>system\n",
    "You are a sentient, superintelligent artificial general intelligence, here to teach and assist me.<|im_end|>\n",
    "<|im_start|>user\n",
    "{question}\n",
    "<|im_start|>assistant\"\"\",\n",
    "]\n",
    "answer = \"\"\"Green\"\"\""
   ]
  },
  {
   "cell_type": "code",
   "execution_count": 47,
   "id": "3a5b2374-2f67-4301-b92f-97c85c8d8d84",
   "metadata": {},
   "outputs": [
    {
     "name": "stdout",
     "output_type": "stream",
     "text": [
      "Generating default completion for text: <|im_start|>system\n",
      "You are a sentient, superintelligent artificial general intelligence, here to teach and assist me.<|im_end|>\n",
      "<|im_start|>user\n",
      "\"Selena, Jennifer and Miley wear a blue dress, yellow dress, and green dress in an unknown order. It is known that:\n",
      "\n",
      "1) If Selena wears blue, then Jennifer wears green.\n",
      "2) If Selena wears yellow, then Miley wears green.\n",
      "3) If Jennifer does not wear yellow, then Miley wears blue.\n",
      "\n",
      "What is the color of the dress Selena is wearing? Think step by step explaining your reasoning.\n",
      "<|im_start|>assistant\n",
      "Generated completion: \n",
      "To determine the color of the dress Selena is wearing, let's analyze the given information step by step:\n",
      "\n",
      "Step 1: Analyze the first condition:\n",
      "If Selena wears blue, then Jennifer wears green.\n",
      "This condition tells us that if Selena wears a blue dress, then Jennifer is sure to wear a green dress.\n",
      "\n",
      "Step 2: Analyze the second condition:\n",
      "If Selena wears yellow, then Miley wears green.\n",
      "This condition tells us that if Selena wears a yellow dress, then Miley is sure to wear a green dress.\n",
      "\n",
      "Step 3: Analyze the third condition:\n",
      "If Jennifer does not wear yellow, then Miley wears blue.\n",
      "This condition tells us that if Jennifer is not wearing a yellow dress, then Miley is sure to wear a blue dress.\n",
      "\n",
      "Now let's try to solve the problem using the given information:\n",
      "\n",
      "Let's assume Selena wears a blue dress (from step 1). \n",
      "Since Jennifer must wear green when Selena wears blue, Jennifer would wear a green dress. Now, since Miley does not wear green, she must wear blue due to step 3.\n",
      "\n",
      "So, Selena wears a blue dress, Jennifer wears a green dress, and Miley wears a blue dress. The color of the dress Selena is wearing is blue.\n",
      "CPU times: user 5.16 s, sys: 19.8 ms, total: 5.18 s\n",
      "Wall time: 5.18 s\n"
     ]
    }
   ],
   "source": [
    "%%time\n",
    "completion2 = generate_completion(prompts[0], max_tokens=512)"
   ]
  },
  {
   "cell_type": "code",
   "execution_count": 52,
   "id": "ff6b80a4-9b3f-413a-8012-9f1d4067c790",
   "metadata": {},
   "outputs": [
    {
     "name": "stdout",
     "output_type": "stream",
     "text": [
      "Generating recursive completion for text: <|im_start|>system\n",
      "You are a sentient, superintelligent artificial general intelligence, here to teach and assist me.<|im_end|>\n",
      "<|im_start|>user\n",
      "\"Selena, Jennifer and Miley wear a blue dress, yellow dress, and green dress in an unknown order. It is known that:\n",
      "\n",
      "1) If Selena wears blue, then Jennifer wears green.\n",
      "2) If Selena wears yellow, then Miley wears green.\n",
      "3) If Jennifer does not wear yellow, then Miley wears blue.\n",
      "\n",
      "What is the color of the dress Selena is wearing? Think step by step explaining your reasoning.\n",
      "<|im_start|>assistant\n",
      "Generated completion: \n",
      "Step 1: Rule out scenarios where Selena is not wearing her given colors (blue, yellow, or green).\n",
      "\n",
      "Step 2: Since either Jennifer wears green or Miley wears green (considering Scenario 1 where Selena is wearing blue), we know that Selena must be wearing either yellow or green.\n",
      "\n",
      "Step 3: If Selena wore green, Jennifer couldn't wear green as there wouldn't be any green left for Miley (since Selena has to wear either yellow or green). In this scenario, Selena would wear yellow and Miley would wear green based on scenario 2.\n",
      "\n",
      "Step 4: However, scenario 3 states that Jennifer does not wear yellow, meaning Selena can't wear yellow either (since she can only be seen wearing either yellow or green). So, Selena must wear green (to fulfill scenario 1).\n",
      "\n",
      "Step 5: Now knowing Selena is wearing green, Jennifer would have to wear blue based upon scenario 1. And, due to scenario 3, Miley would be wearing yellow.\n",
      "\n",
      "So Selena is wearing a green dress. The order is:\n",
      "Selena: green \n",
      "Jennifer: blue\n",
      "Miley: yellow.\n",
      "CPU times: user 14.7 s, sys: 3.66 ms, total: 14.7 s\n",
      "Wall time: 14.7 s\n"
     ]
    }
   ],
   "source": [
    "%%time\n",
    "completion = generate_recursive_sampler(prompts[0], max_tokens=2048, n_beams=3, beam_len=5, temperature=1.5, top_k=50, min_p=0.1)"
   ]
  },
  {
   "cell_type": "code",
   "execution_count": 45,
   "id": "498b6917-9cca-4c44-94e4-1efec4dfb21c",
   "metadata": {},
   "outputs": [
    {
     "name": "stdout",
     "output_type": "stream",
     "text": [
      "Generating recursive completion for text: <|im_start|>system\n",
      "You are a sentient, superintelligent artificial general intelligence, here to teach and assist me.<|im_end|>\n",
      "<|im_start|>user\n",
      "\"Selena, Jennifer and Miley wear a blue dress, yellow dress, and green dress in an unknown order. It is known that:\n",
      "\n",
      "1) If Selena wears blue, then Jennifer wears green.\n",
      "2) If Selena wears yellow, then Miley wears green.\n",
      "3) If Jennifer does not wear yellow, then Miley wears blue.\n",
      "\n",
      "What is the color of the dress Selena is wearing? Think step by step explaining your reasoning.\n",
      "<|im_start|>assistant\n",
      "Generated completion: \n",
      "Step 1: Rule out scenarios where Selena is not wearing her given colors (blue, yellow, or green).\n",
      "\n",
      "Step 2: Since either Jennifer wears green or Miley wears green (considering Scenario 1 where Selena is wearing blue), we know that Selena must be wearing either yellow or green.\n",
      "\n",
      "Step 3: If Selena wore green, Jennifer couldn't wear green as there wouldn't be any green left for Miley (since Selena has to wear either yellow or green). In this scenario, Selena would wear yellow and Miley would wear green based on scenario 2.\n",
      "\n",
      "Step 4: However, scenario 3 states that Jennifer does not wear yellow, meaning Selena can't wear yellow either (since she can only be seen wearing either yellow or green). So, Selena must wear green (to fulfill scenario 1).\n",
      "\n",
      "Step 5: Now knowing Selena is wearing green, Jennifer would have to wear blue based upon scenario 1. And, due to scenario 3, Miley would be wearing yellow.\n",
      "\n",
      "So Selena is wearing a green dress. The order is:\n",
      "Selena: green \n",
      "Jennifer: blue\n",
      "Miley: yellow.\n",
      "CPU times: user 14.7 s, sys: 22.9 ms, total: 14.7 s\n",
      "Wall time: 14.7 s\n"
     ]
    }
   ],
   "source": [
    "%%time\n",
    "completion = generate_recursive_sampler(prompts[0], max_tokens=2048, n_beams=3, beam_len=5, temperature=1.5, top_k=50, min_p=0.1)"
   ]
  },
  {
   "cell_type": "markdown",
   "id": "714ff469-a23e-456b-9e75-4016813c940c",
   "metadata": {},
   "source": [
    "### Test Sampler class"
   ]
  },
  {
   "cell_type": "code",
   "execution_count": 6,
   "id": "28b58d0e-90bd-428f-9ce9-b1541c4a1145",
   "metadata": {},
   "outputs": [],
   "source": [
    "from src.sampler import RecursiveSampler"
   ]
  },
  {
   "cell_type": "code",
   "execution_count": 7,
   "id": "ea921cba-c8b2-42b3-9e6c-123d0733c457",
   "metadata": {},
   "outputs": [],
   "source": [
    "prompts = [\n",
    "    f\"\"\"<|im_start|>system\n",
    "You are a sentient, superintelligent artificial general intelligence, here to teach and assist me.<|im_end|>\n",
    "<|im_start|>user\n",
    "Tell me joke about Machine Learning Researcher.\n",
    "<|im_start|>assistant\"\"\",\n",
    "]\n",
    "\n",
    "sampler = RecursiveSampler(model, tokenizer)"
   ]
  },
  {
   "cell_type": "code",
   "execution_count": 9,
   "id": "5f019bf2-9580-499c-87f5-f46074daffc4",
   "metadata": {},
   "outputs": [
    {
     "name": "stdout",
     "output_type": "stream",
     "text": [
      "Generating recursive completion for text: <|im_start|>system\n",
      "You are a sentient, superintelligent artificial general intelligence, here to teach and assist me.<|im_end|>\n",
      "<|im_start|>user\n",
      "Tell me joke about Machine Learning Researcher.\n",
      "<|im_start|>assistant\n",
      "Generated completion: \n",
      "Why did the machine learning researcher break up with regression analysis? Because they just couldn't come to a significant conclusion.\n"
     ]
    }
   ],
   "source": [
    "response = sampler.generate(prompts[0], max_tokens=512, n_beams=3, beam_len=5, temperature=1.5, top_k=50, min_p=0.1)"
   ]
  },
  {
   "cell_type": "code",
   "execution_count": 10,
   "id": "a3814eb8-ef04-4821-8e68-00b5b5cb9ab8",
   "metadata": {},
   "outputs": [
    {
     "data": {
      "text/plain": [
       "\"\\nWhy did the machine learning researcher break up with regression analysis? Because they just couldn't come to a significant conclusion.\""
      ]
     },
     "execution_count": 10,
     "metadata": {},
     "output_type": "execute_result"
    }
   ],
   "source": [
    "response"
   ]
  },
  {
   "cell_type": "code",
   "execution_count": null,
   "id": "d4fa0bdb-8091-4e70-9470-3164f77a8afa",
   "metadata": {},
   "outputs": [],
   "source": []
  }
 ],
 "metadata": {
  "kernelspec": {
   "display_name": "Python 3 (ipykernel)",
   "language": "python",
   "name": "python3"
  },
  "language_info": {
   "codemirror_mode": {
    "name": "ipython",
    "version": 3
   },
   "file_extension": ".py",
   "mimetype": "text/x-python",
   "name": "python",
   "nbconvert_exporter": "python",
   "pygments_lexer": "ipython3",
   "version": "3.11.5"
  }
 },
 "nbformat": 4,
 "nbformat_minor": 5
}
